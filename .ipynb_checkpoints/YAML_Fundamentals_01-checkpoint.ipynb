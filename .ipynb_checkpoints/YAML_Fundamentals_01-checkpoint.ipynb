{
 "cells": [
  {
   "cell_type": "markdown",
   "id": "2a7cd2a5",
   "metadata": {},
   "source": [
    "# YAML Stype\n",
    "\n",
    "--- # Starting of YAMLfile.\n",
    "Address: \n",
    "  Street: \"LS Street\"\n",
    "  City: Ney York\n",
    "  Pin: 12345678\n",
    "  Country: US\n",
    "  \n",
    " ... # End of YAML File.\n",
    " \n",
    " Note: 2 spaces before Street, City, Pin, Country and 1 spce after \":\" to assign the value to the key."
   ]
  },
  {
   "cell_type": "markdown",
   "id": "781d5896",
   "metadata": {},
   "source": [
    "# Multi- Line String (Block Scalars)\n",
    "\n",
    "# Block Style: |(pipe) or > (greater than)\n",
    "\n",
    "How are the newlines  characters treated?\n",
    "  | (pipe) : Preserve all newline characters.\n",
    "  > (Greater than) : Newline characters are converted to space.\n",
    "  \n",
    "\n",
    "example \n",
    "\n",
    "Message : | # Here before past there will be '\\n' will be present. \n",
    "    This is the message from the future. Future is predictable if you are doing predicted present which is based on the \n",
    "    past. \n"
   ]
  },
  {
   "cell_type": "code",
   "execution_count": null,
   "id": "f8458332",
   "metadata": {},
   "outputs": [],
   "source": [
    "Message : > # Here before past '\\n' will be change in to space. \n",
    "    This is the message from the future. Future is predictable if you are doing predicted present which is based on the \n",
    "    past. "
   ]
  },
  {
   "cell_type": "markdown",
   "id": "0e142f42",
   "metadata": {},
   "source": [
    "# Block Chomping Indicator : -(minus) or + (plus)\n",
    "\n",
    "How are the newlines at the end of the string treated?\n",
    "    Clip (default) - Puts a single newline at the end of the string.\n",
    "    \n",
    "    - (Strip) : Removes all newlines.\n",
    "    + : To preserve all newlines at the end of the string."
   ]
  },
  {
   "cell_type": "markdown",
   "id": "8b8c040b",
   "metadata": {},
   "source": [
    "# Indentation : Number\n",
    "\n",
    "Helps YAML to understand the number of spaces used for the block scalar.\n",
    "    if not specified, the first line is used as reference. \n",
    "    \n",
    "  Message: >-3 # here, 3 indicates that below text will be 3 space from left hand side margine. \n",
    "   YAML is a human-readable data-serialization language. It is commonly used for configuration files and in applications \n",
    "   where data is being stored or transmitted. YAML targets many of the same communications applications as Extensible \n",
    "   Markup Language but has a minimal syntax which intentionally differs from SGML."
   ]
  },
  {
   "cell_type": "markdown",
   "id": "b69d1f4e",
   "metadata": {},
   "source": [
    "# YAML Datatypes \n",
    "# Collections\n",
    "\n",
    "--- # Four Items\n",
    "- Bell Papper # a dash and a space indicates its a list.\n",
    "- Milk\n",
    "- Bread\n",
    "- Greens\n",
    "...\n",
    "\n",
    "# \"-\" and a space represents an item in a list.\n",
    "\n",
    "--- # 1 Key-value pair with 4 items.\n",
    "groceries:  # Here groceries is the key and other values are list.\n",
    "  - Bell Pepper\n",
    "  - Milk\n",
    "  - Bread\n",
    "  - Greens\n",
    "...\n",
    "\n",
    "--- # 1 Dictionary with 6 Key-value pairs.\n",
    "Address: \n",
    "  Street: \"LS Street\"\n",
    "  City: Ney York\n",
    "  Pin: 12345678\n",
    "  Country: US\n",
    "  \n",
    " ... \n"
   ]
  },
  {
   "cell_type": "markdown",
   "id": "bb72eb34",
   "metadata": {},
   "source": [
    "# Sets (Unique Values)\n",
    "\n",
    "---\n",
    "groceries: !!set\n",
    "  ? Bell Pepper\n",
    "  ? Milk\n",
    "  ? Bread\n",
    "  ? Greens\n",
    "  ? Milk       # Having a dublicate value in the set is a perfectly fine.\n",
    "  \n",
    "# \"?\" and space represents an item in a set."
   ]
  }
 ],
 "metadata": {
  "kernelspec": {
   "display_name": "Python 3",
   "language": "python",
   "name": "python3"
  },
  "language_info": {
   "codemirror_mode": {
    "name": "ipython",
    "version": 3
   },
   "file_extension": ".py",
   "mimetype": "text/x-python",
   "name": "python",
   "nbconvert_exporter": "python",
   "pygments_lexer": "ipython3",
   "version": "3.8.12"
  }
 },
 "nbformat": 4,
 "nbformat_minor": 5
}
