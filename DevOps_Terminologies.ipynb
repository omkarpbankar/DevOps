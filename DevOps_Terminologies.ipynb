{
 "cells": [
  {
   "cell_type": "markdown",
   "id": "687e256e",
   "metadata": {},
   "source": [
    "# Source Control"
   ]
  },
  {
   "cell_type": "markdown",
   "id": "30fdbc79",
   "metadata": {},
   "source": [
    "A centralized server or repository to track and manage changes to code across multiple developers.\n",
    "Example:Git, Azure Repos."
   ]
  },
  {
   "cell_type": "markdown",
   "id": "823753e1",
   "metadata": {},
   "source": [
    "# Build"
   ]
  },
  {
   "cell_type": "markdown",
   "id": "aa7cf2cc",
   "metadata": {},
   "source": [
    "A specific version of the code compiled to be ready for deployement to various environments."
   ]
  },
  {
   "cell_type": "markdown",
   "id": "44be6481",
   "metadata": {},
   "source": [
    "# Unit Testing"
   ]
  },
  {
   "cell_type": "markdown",
   "id": "407b9928",
   "metadata": {},
   "source": [
    "The practice of testing the code at the smallest possible chunks. Typically each method in a class will be unit tested."
   ]
  },
  {
   "cell_type": "markdown",
   "id": "b9225412",
   "metadata": {},
   "source": [
    "# Continious Integration"
   ]
  },
  {
   "cell_type": "markdown",
   "id": "0ce27359",
   "metadata": {},
   "source": [
    "CI is a DevOps process allowing developers to integrate new code with automated build and run unit test. \n",
    "\n",
    "Source Code --> Build --> Output"
   ]
  },
  {
   "cell_type": "markdown",
   "id": "13b6add7",
   "metadata": {},
   "source": [
    "# Continious Delivery\n",
    "\n",
    "CD is a DevOps process where the latest code is deployment to multiple environment with a manual step in between after auto validation of deployment.\n",
    "Note:When it is automated then it is called as Continious Delivery"
   ]
  },
  {
   "cell_type": "markdown",
   "id": "a5516edd",
   "metadata": {},
   "source": [
    "# Continious Deployment \n",
    "\n",
    "CD is a DevOps process where the latest code is deployment to multiple environments automatically after auto validation of the deployment.\n",
    "\n",
    "Note: When it is Manually then it is called as Continious Deployment."
   ]
  },
  {
   "cell_type": "markdown",
   "id": "e0e3aa06",
   "metadata": {},
   "source": [
    "# Infrastructure \n",
    "\n",
    "Set of hardware, dependent software required to run the apps on the cloud. "
   ]
  },
  {
   "cell_type": "markdown",
   "id": "12d071b9",
   "metadata": {},
   "source": [
    "# Infrastructure as Code\n",
    "\n",
    "Infrastructure as a Code is a process allowing DevOps teams to scripts and templates to provision cloud infrastructure automatically."
   ]
  },
  {
   "cell_type": "markdown",
   "id": "3228be1a",
   "metadata": {},
   "source": [
    "# Agent \n",
    "\n",
    "Agent is the infrastructure where in all CI/CD tasks are executed."
   ]
  },
  {
   "cell_type": "markdown",
   "id": "b34e0197",
   "metadata": {},
   "source": [
    "# Agent Pool \n",
    "\n",
    "Master --> Agent Pool (Agent 1 <--> Agent 2 <--> Agent 3) Whichever Agent is available at that time will execute the CI/CD."
   ]
  },
  {
   "cell_type": "markdown",
   "id": "ed952faf",
   "metadata": {},
   "source": [
    "# Artifacts \n",
    "\n",
    "Artifact is any output (zipfile, python file, etc.) from CI/CD process which is shared across teams and process. "
   ]
  },
  {
   "cell_type": "code",
   "execution_count": null,
   "id": "43f79762",
   "metadata": {},
   "outputs": [],
   "source": [
    "# Job\n",
    "\n",
    "A 'job' is a set of tasks defined in a CI/CD process."
   ]
  },
  {
   "cell_type": "markdown",
   "id": "af499f1b",
   "metadata": {},
   "source": [
    "# Pipeline \n",
    "\n",
    "A Pipeline is multiple \"Jobs\" connecting together to achieve CI/CD process."
   ]
  },
  {
   "cell_type": "markdown",
   "id": "5eb284ff",
   "metadata": {},
   "source": [
    "# Environment \n",
    "Environment or a Stage is generally referred in CD process and it indicate one of the infrastructure, such as DEV, QA, STAGING, PRODUCTION\n",
    "\n",
    "Development --> Q.A. --> Staging --> Production"
   ]
  }
 ],
 "metadata": {
  "kernelspec": {
   "display_name": "Python 3",
   "language": "python",
   "name": "python3"
  },
  "language_info": {
   "codemirror_mode": {
    "name": "ipython",
    "version": 3
   },
   "file_extension": ".py",
   "mimetype": "text/x-python",
   "name": "python",
   "nbconvert_exporter": "python",
   "pygments_lexer": "ipython3",
   "version": "3.8.12"
  }
 },
 "nbformat": 4,
 "nbformat_minor": 5
}
