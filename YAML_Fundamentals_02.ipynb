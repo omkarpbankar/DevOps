{
 "cells": [
  {
   "cell_type": "markdown",
   "id": "dcb512a2",
   "metadata": {},
   "source": [
    "# Tags\n",
    "\n",
    "# 1. Setting a custom URI.\n",
    "# 2. Setting local tags.\n",
    "# 3. Setting a data type."
   ]
  },
  {
   "cell_type": "markdown",
   "id": "ab0bd6f6",
   "metadata": {},
   "source": [
    "# 3. Setting a data type.\n",
    "\n",
    "Force a datatype\n",
    "Parser interpretation is skipped.\n",
    "Use !! (Two exclamation points)"
   ]
  },
  {
   "cell_type": "markdown",
   "id": "1a4fa8b9",
   "metadata": {},
   "source": [
    "count: !!str 20  # Here, 20 is integer but we are forcing it to be string."
   ]
  },
  {
   "cell_type": "markdown",
   "id": "fd80e0b2",
   "metadata": {},
   "source": [
    "# Anchors \n",
    "\n",
    "1. Allows you to access the values of a key (at a different location).\n",
    "2. Best way to handle duplicate data!\n",
    "\n",
    "# Create an anchor (using &)\n",
    "\n",
    "# Use the anchor (using *) i.e. alias"
   ]
  },
  {
   "cell_type": "markdown",
   "id": "49c8ae7d",
   "metadata": {},
   "source": [
    "--- \n",
    "servertype: &make dell 720\n",
    "\n",
    "server1:\n",
    "  servertype: *make\n",
    "  staged_layer: 2015\n",
    "  max-cpu-sockets: 2\n",
    "  max-cpu-cores-per-socket: 8\n",
    "  usb-ports: 4"
   ]
  },
  {
   "cell_type": "markdown",
   "id": "a8d71ac8",
   "metadata": {},
   "source": [
    "# It comes handy when you want to declaire multiple servers. \n",
    "---\n",
    "dell720: &dell720\n",
    "  make: \"Dell\"\n",
    "  model: \"720\"\n",
    "  release_year: 2010\n",
    "\n",
    "dc_us_west1: &dc_us_west1\n",
    "  location: \"San Jose\"\n",
    "  state: \"CA\"\n",
    "\n",
    "server1:\n",
    "  <<: *dell720\n",
    "  staged_year: 2015\n",
    "  max-cpu-sockets: 2\n",
    "  max-cpu-cores-per-socket: 8\n",
    "  usb-ports: 4\n",
    "  <<: *dc_us_west1  "
   ]
  },
  {
   "cell_type": "markdown",
   "id": "dc2b2c46",
   "metadata": {},
   "source": [
    "# Complex mapping \n",
    "\n",
    "# ? is used to indicate a complex key.\n",
    "\n",
    "when was the air cooling upgraded: 2019\n",
    "(key)                              (value)\n",
    "\n",
    "? when was the air cooling upgraded: 2019\n",
    ": 2019\n"
   ]
  },
  {
   "cell_type": "code",
   "execution_count": null,
   "id": "896821d0",
   "metadata": {},
   "outputs": [],
   "source": [
    "? |-\n",
    "  here, 3 indicates that below text will be 3 space from left hand side margine. \n",
    "  YAML is a human-readable data-serialization language. It is commonly used for configuration files and in applications \n",
    "  where data is being stored or transmitted. YAML targets many of the same communications applications as Extensible \n",
    "  Markup Language but has a minimal syntax which intentionally differs from SGML.\n",
    ":True"
   ]
  }
 ],
 "metadata": {
  "kernelspec": {
   "display_name": "Python 3",
   "language": "python",
   "name": "python3"
  },
  "language_info": {
   "codemirror_mode": {
    "name": "ipython",
    "version": 3
   },
   "file_extension": ".py",
   "mimetype": "text/x-python",
   "name": "python",
   "nbconvert_exporter": "python",
   "pygments_lexer": "ipython3",
   "version": "3.8.12"
  }
 },
 "nbformat": 4,
 "nbformat_minor": 5
}
